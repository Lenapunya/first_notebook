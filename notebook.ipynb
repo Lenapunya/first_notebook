{
 "cells": [
  {
   "cell_type": "markdown",
   "id": "b90cf36b-3b5c-41a0-a87e-dfcbd12be3cb",
   "metadata": {},
   "source": [
    "# Data Science Tools and Ecosystem"
   ]
  },
  {
   "cell_type": "markdown",
   "id": "1a8b4766-6b2a-4925-9418-9825ce4c3baa",
   "metadata": {},
   "source": [
    "In this notebook, Data Science Tools and Ecosystem are summarized."
   ]
  },
  {
   "cell_type": "markdown",
   "id": "b6bba855-745a-443b-959f-0a9afec17e51",
   "metadata": {},
   "source": [
    "Some of the popular languages that Data Scientists use are:\n",
    "+ Python \n",
    "+ R\n",
    "+ SQL"
   ]
  },
  {
   "cell_type": "markdown",
   "id": "6665254d-47a8-43d6-968f-d0dbee6ea145",
   "metadata": {},
   "source": [
    "Some of the commonly used libraries used by Data Scientists include:\n",
    "1. Pandas\n",
    "2. Numpy \n",
    "3. Matplotlib\n",
    "4. Scikit-learn"
   ]
  },
  {
   "cell_type": "markdown",
   "id": "187ff578-c1be-406d-8c14-131b2d5ad892",
   "metadata": {},
   "source": [
    " | Data science Tools |\n",
    "|----------------------|\n",
    "|Jupiter notebooks|\n",
    "|Google collab|\n",
    "|Vs code|"
   ]
  },
  {
   "cell_type": "markdown",
   "id": "253ef516-833e-402e-a26c-fd28ba32d1e9",
   "metadata": {},
   "source": [
    "### Below are a few examples of evaluating arithmetic expressions in Python"
   ]
  },
  {
   "cell_type": "code",
   "execution_count": 13,
   "id": "b2949cc3-2253-4367-abc0-f5a20fd4849a",
   "metadata": {},
   "outputs": [
    {
     "data": {
      "text/plain": [
       "17"
      ]
     },
     "execution_count": 13,
     "metadata": {},
     "output_type": "execute_result"
    }
   ],
   "source": [
    "#This a simple arithmetic expression to mutiply then add integers\n",
    "(3*4)+5"
   ]
  },
  {
   "cell_type": "code",
   "execution_count": 15,
   "id": "48bd5889-5c1f-48d4-b2e0-626146661ec7",
   "metadata": {},
   "outputs": [
    {
     "name": "stdout",
     "output_type": "stream",
     "text": [
      "3.3333333333333335\n"
     ]
    }
   ],
   "source": [
    "# This will convert 200 minutes to hours by diving by 60\n",
    "\n",
    "time = 200\n",
    "minperHour = 60\n",
    "\n",
    "results = time / minperHour\n",
    "print(results)"
   ]
  },
  {
   "cell_type": "markdown",
   "id": "d73293f1-f175-4c3d-b85a-abd80d3524f3",
   "metadata": {},
   "source": [
    "**Objectives:**\n",
    "+ List popular languages for Data Science\n",
    "+ List common libraries\n",
    "+ Converted minutes to hours"
   ]
  },
  {
   "cell_type": "markdown",
   "id": "25354eba-0798-40df-9d55-01e409b503f7",
   "metadata": {},
   "source": [
    "## Author\n",
    "\n",
    "Viona Lenapunya"
   ]
  },
  {
   "cell_type": "code",
   "execution_count": null,
   "id": "50b4f87e-c00f-471e-8a2d-c9b01d4500cd",
   "metadata": {},
   "outputs": [],
   "source": []
  }
 ],
 "metadata": {
  "kernelspec": {
   "display_name": "Python [conda env:base] *",
   "language": "python",
   "name": "conda-base-py"
  },
  "language_info": {
   "codemirror_mode": {
    "name": "ipython",
    "version": 3
   },
   "file_extension": ".py",
   "mimetype": "text/x-python",
   "name": "python",
   "nbconvert_exporter": "python",
   "pygments_lexer": "ipython3",
   "version": "3.12.7"
  }
 },
 "nbformat": 4,
 "nbformat_minor": 5
}
